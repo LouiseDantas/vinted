{
 "cells": [
  {
   "cell_type": "code",
   "execution_count": 1,
   "id": "85bfa7cf",
   "metadata": {},
   "outputs": [],
   "source": [
    "import pandas as pd\n",
    "import numpy as np \n",
    "import matplotlib.pyplot as plt\n",
    "import seaborn as sns\n",
    "import statsmodels.formula.api as smf\n",
    "import warnings\n",
    "warnings.filterwarnings('ignore')"
   ]
  },
  {
   "cell_type": "markdown",
   "id": "1ac84305",
   "metadata": {},
   "source": [
    "# GET DataFrame"
   ]
  },
  {
   "cell_type": "code",
   "execution_count": 10,
   "id": "f01da483",
   "metadata": {},
   "outputs": [],
   "source": [
    "df=pd.read_csv('/home/louisedantas/code/LouiseDantas/vinted/Result_5.csv')"
   ]
  },
  {
   "cell_type": "markdown",
   "id": "f88c5496",
   "metadata": {
    "heading_collapsed": true
   },
   "source": [
    "# Clean and Process Data"
   ]
  },
  {
   "cell_type": "markdown",
   "id": "6568fe9d",
   "metadata": {
    "hidden": true
   },
   "source": [
    "a. Check for Duplicates"
   ]
  },
  {
   "cell_type": "code",
   "execution_count": 11,
   "id": "fb189d31",
   "metadata": {
    "hidden": true
   },
   "outputs": [],
   "source": [
    "df[df.duplicated()]\n",
    "duplicate_count=len(df[df.duplicated()])"
   ]
  },
  {
   "cell_type": "code",
   "execution_count": 12,
   "id": "ef1504ed",
   "metadata": {
    "hidden": true
   },
   "outputs": [],
   "source": [
    "df=df.drop_duplicates()"
   ]
  },
  {
   "cell_type": "markdown",
   "id": "2d9d1391",
   "metadata": {
    "hidden": true
   },
   "source": [
    "b. Check for Missing Values"
   ]
  },
  {
   "cell_type": "code",
   "execution_count": 13,
   "id": "7dd141c0",
   "metadata": {
    "hidden": true
   },
   "outputs": [
    {
     "data": {
      "text/plain": [
       "basket_item_id        0.0\n",
       "basket_id             0.0\n",
       "customer_id           0.0\n",
       "sales_channel_id      0.0\n",
       "country_id            0.0\n",
       "category_id           0.0\n",
       "product               0.0\n",
       "quantity              0.0\n",
       "price_total           0.0\n",
       "date_trading_nk       0.0\n",
       "category_id.1         0.0\n",
       "category_l1_name      0.0\n",
       "category_l2_name      0.0\n",
       "sales_channel_id.1    0.0\n",
       "sales_channel_name    0.0\n",
       "country_id.1          0.0\n",
       "country_name          0.0\n",
       "dtype: float64"
      ]
     },
     "execution_count": 13,
     "metadata": {},
     "output_type": "execute_result"
    }
   ],
   "source": [
    "df.isnull().sum()/len(df)"
   ]
  },
  {
   "cell_type": "markdown",
   "id": "f1b2f251",
   "metadata": {
    "hidden": true
   },
   "source": [
    "c. Check Outliers"
   ]
  },
  {
   "cell_type": "markdown",
   "id": "3b5fdf9f",
   "metadata": {},
   "source": [
    "# EDA"
   ]
  },
  {
   "cell_type": "markdown",
   "id": "2dd433de",
   "metadata": {},
   "source": [
    "## Explore overall"
   ]
  },
  {
   "cell_type": "code",
   "execution_count": 8,
   "id": "e472d1d9",
   "metadata": {},
   "outputs": [
    {
     "data": {
      "text/html": [
       "<div>\n",
       "<style scoped>\n",
       "    .dataframe tbody tr th:only-of-type {\n",
       "        vertical-align: middle;\n",
       "    }\n",
       "\n",
       "    .dataframe tbody tr th {\n",
       "        vertical-align: top;\n",
       "    }\n",
       "\n",
       "    .dataframe thead th {\n",
       "        text-align: right;\n",
       "    }\n",
       "</style>\n",
       "<table border=\"1\" class=\"dataframe\">\n",
       "  <thead>\n",
       "    <tr style=\"text-align: right;\">\n",
       "      <th></th>\n",
       "      <th>basket_item_id</th>\n",
       "      <th>basket_id</th>\n",
       "      <th>customer_id</th>\n",
       "      <th>sales_channel_id</th>\n",
       "      <th>country_id</th>\n",
       "      <th>category_id</th>\n",
       "      <th>product</th>\n",
       "      <th>quantity</th>\n",
       "      <th>price_total</th>\n",
       "      <th>date_trading_nk</th>\n",
       "      <th>category_id.1</th>\n",
       "      <th>category_l1_name</th>\n",
       "      <th>category_l2_name</th>\n",
       "      <th>sales_channel_id.1</th>\n",
       "      <th>sales_channel_name</th>\n",
       "      <th>country_id.1</th>\n",
       "      <th>country_name</th>\n",
       "    </tr>\n",
       "  </thead>\n",
       "  <tbody>\n",
       "    <tr>\n",
       "      <th>0</th>\n",
       "      <td>0654e2f726656877a10cd57eaf5e7d6f</td>\n",
       "      <td>59f2f4a1b87c63e97bf52241699a4387</td>\n",
       "      <td>59f2f4a1b87c63e97bf52241699a4387</td>\n",
       "      <td>2</td>\n",
       "      <td>2</td>\n",
       "      <td>l1-1|l2-46</td>\n",
       "      <td>82005b5333cfe3b63634cf1afaac86af</td>\n",
       "      <td>2</td>\n",
       "      <td>14.57</td>\n",
       "      <td>2021-03-07</td>\n",
       "      <td>l1-1|l2-46</td>\n",
       "      <td>Category 1</td>\n",
       "      <td>Category 46</td>\n",
       "      <td>2</td>\n",
       "      <td>In-store</td>\n",
       "      <td>2</td>\n",
       "      <td>Country B</td>\n",
       "    </tr>\n",
       "    <tr>\n",
       "      <th>1</th>\n",
       "      <td>09dc3beeecfe20053b6285e4e2336f65</td>\n",
       "      <td>59f2f4a1b87c63e97bf52241699a4387</td>\n",
       "      <td>59f2f4a1b87c63e97bf52241699a4387</td>\n",
       "      <td>2</td>\n",
       "      <td>2</td>\n",
       "      <td>l1-1|l2-46</td>\n",
       "      <td>82005b5333cfe3b63634cf1afaac86af</td>\n",
       "      <td>1</td>\n",
       "      <td>12.86</td>\n",
       "      <td>2021-03-07</td>\n",
       "      <td>l1-1|l2-46</td>\n",
       "      <td>Category 1</td>\n",
       "      <td>Category 46</td>\n",
       "      <td>2</td>\n",
       "      <td>In-store</td>\n",
       "      <td>2</td>\n",
       "      <td>Country B</td>\n",
       "    </tr>\n",
       "    <tr>\n",
       "      <th>2</th>\n",
       "      <td>30ef02221c8f50db650692477824ee0f</td>\n",
       "      <td>11ac30665340ab946544a1e72edf57fd</td>\n",
       "      <td>3e1cb144d5b44ec59f4cc27ad99ec168</td>\n",
       "      <td>1</td>\n",
       "      <td>1</td>\n",
       "      <td>l1-4|l2-1</td>\n",
       "      <td>3e32de32b8cf2f3d8e72ecfcf99daee1</td>\n",
       "      <td>2</td>\n",
       "      <td>3.02</td>\n",
       "      <td>2021-03-07</td>\n",
       "      <td>l1-4|l2-1</td>\n",
       "      <td>Category 4</td>\n",
       "      <td>Category 1</td>\n",
       "      <td>1</td>\n",
       "      <td>Online</td>\n",
       "      <td>1</td>\n",
       "      <td>Country A</td>\n",
       "    </tr>\n",
       "    <tr>\n",
       "      <th>3</th>\n",
       "      <td>cac3b10c1a1b5e386bf577f2fb0bf3eb</td>\n",
       "      <td>137c0d89e82b17117b98ac481471e873</td>\n",
       "      <td>805ed8a2dca893e833352dbedc09eaf6</td>\n",
       "      <td>2</td>\n",
       "      <td>1</td>\n",
       "      <td>l1-2|l2-97</td>\n",
       "      <td>abec16f483abb4f1810ca029aadf8446</td>\n",
       "      <td>1</td>\n",
       "      <td>12.76</td>\n",
       "      <td>2021-03-07</td>\n",
       "      <td>l1-2|l2-97</td>\n",
       "      <td>Category 2</td>\n",
       "      <td>Category 97</td>\n",
       "      <td>2</td>\n",
       "      <td>In-store</td>\n",
       "      <td>1</td>\n",
       "      <td>Country A</td>\n",
       "    </tr>\n",
       "    <tr>\n",
       "      <th>4</th>\n",
       "      <td>35103592a32e764df0dbb87cb4935b3d</td>\n",
       "      <td>00dd292ec592a7e8c1c620f7648d22d3</td>\n",
       "      <td>ab9a28456f30829f81cf8bcdab3729d7</td>\n",
       "      <td>2</td>\n",
       "      <td>1</td>\n",
       "      <td>l1-4|l2-4</td>\n",
       "      <td>721954837adbdf1aeecdf6d31715536f</td>\n",
       "      <td>1</td>\n",
       "      <td>2.55</td>\n",
       "      <td>2021-03-07</td>\n",
       "      <td>l1-4|l2-4</td>\n",
       "      <td>Category 4</td>\n",
       "      <td>Category 4</td>\n",
       "      <td>2</td>\n",
       "      <td>In-store</td>\n",
       "      <td>1</td>\n",
       "      <td>Country A</td>\n",
       "    </tr>\n",
       "    <tr>\n",
       "      <th>...</th>\n",
       "      <td>...</td>\n",
       "      <td>...</td>\n",
       "      <td>...</td>\n",
       "      <td>...</td>\n",
       "      <td>...</td>\n",
       "      <td>...</td>\n",
       "      <td>...</td>\n",
       "      <td>...</td>\n",
       "      <td>...</td>\n",
       "      <td>...</td>\n",
       "      <td>...</td>\n",
       "      <td>...</td>\n",
       "      <td>...</td>\n",
       "      <td>...</td>\n",
       "      <td>...</td>\n",
       "      <td>...</td>\n",
       "      <td>...</td>\n",
       "    </tr>\n",
       "    <tr>\n",
       "      <th>265984</th>\n",
       "      <td>a2996a0cced841c87664efec212e119f</td>\n",
       "      <td>3a94bb89465380597303256696ec8e08</td>\n",
       "      <td>3a94bb89465380597303256696ec8e08</td>\n",
       "      <td>2</td>\n",
       "      <td>3</td>\n",
       "      <td>l1-1|l2-101</td>\n",
       "      <td>9acf1b76f369030270de8f98f84d6707</td>\n",
       "      <td>2</td>\n",
       "      <td>16.36</td>\n",
       "      <td>2021-09-21</td>\n",
       "      <td>l1-1|l2-101</td>\n",
       "      <td>Category 1</td>\n",
       "      <td>Category 101</td>\n",
       "      <td>2</td>\n",
       "      <td>In-store</td>\n",
       "      <td>3</td>\n",
       "      <td>Country C</td>\n",
       "    </tr>\n",
       "    <tr>\n",
       "      <th>265985</th>\n",
       "      <td>dac9d751feeabcde8dd0d702d7506466</td>\n",
       "      <td>2d302da31437cf0118e505abbe45d2a9</td>\n",
       "      <td>ec898debc89593257aec91a6f9a15dd4</td>\n",
       "      <td>2</td>\n",
       "      <td>3</td>\n",
       "      <td>l1-1|l2-68</td>\n",
       "      <td>4edaa105d5f53590338791951e38c3ad</td>\n",
       "      <td>1</td>\n",
       "      <td>2.92</td>\n",
       "      <td>2021-09-21</td>\n",
       "      <td>l1-1|l2-68</td>\n",
       "      <td>Category 1</td>\n",
       "      <td>Category 68</td>\n",
       "      <td>2</td>\n",
       "      <td>In-store</td>\n",
       "      <td>3</td>\n",
       "      <td>Country C</td>\n",
       "    </tr>\n",
       "    <tr>\n",
       "      <th>265986</th>\n",
       "      <td>8d5940dca748ddad8ea7c5b089b0b225</td>\n",
       "      <td>2d302da31437cf0118e505abbe45d2a9</td>\n",
       "      <td>ec898debc89593257aec91a6f9a15dd4</td>\n",
       "      <td>2</td>\n",
       "      <td>3</td>\n",
       "      <td>l1-1|l2-68</td>\n",
       "      <td>4edaa105d5f53590338791951e38c3ad</td>\n",
       "      <td>2</td>\n",
       "      <td>13.27</td>\n",
       "      <td>2021-09-21</td>\n",
       "      <td>l1-1|l2-68</td>\n",
       "      <td>Category 1</td>\n",
       "      <td>Category 68</td>\n",
       "      <td>2</td>\n",
       "      <td>In-store</td>\n",
       "      <td>3</td>\n",
       "      <td>Country C</td>\n",
       "    </tr>\n",
       "    <tr>\n",
       "      <th>265987</th>\n",
       "      <td>9e32aeeebaffed9f407858da35336403</td>\n",
       "      <td>56be8d74bad5b7886d5b29b00d35bd78</td>\n",
       "      <td>6ec318032e870de821d22f09cfe00883</td>\n",
       "      <td>2</td>\n",
       "      <td>1</td>\n",
       "      <td>l1-1|l2-65</td>\n",
       "      <td>9c70cb2f32394f12a8527ccb82da9942</td>\n",
       "      <td>1</td>\n",
       "      <td>18.90</td>\n",
       "      <td>2021-09-21</td>\n",
       "      <td>l1-1|l2-65</td>\n",
       "      <td>Category 1</td>\n",
       "      <td>Category 65</td>\n",
       "      <td>2</td>\n",
       "      <td>In-store</td>\n",
       "      <td>1</td>\n",
       "      <td>Country A</td>\n",
       "    </tr>\n",
       "    <tr>\n",
       "      <th>265988</th>\n",
       "      <td>36e05be25cc355392551707971e5929f</td>\n",
       "      <td>56be8d74bad5b7886d5b29b00d35bd78</td>\n",
       "      <td>6ec318032e870de821d22f09cfe00883</td>\n",
       "      <td>2</td>\n",
       "      <td>1</td>\n",
       "      <td>l1-1|l2-65</td>\n",
       "      <td>9c70cb2f32394f12a8527ccb82da9942</td>\n",
       "      <td>1</td>\n",
       "      <td>9.69</td>\n",
       "      <td>2021-09-21</td>\n",
       "      <td>l1-1|l2-65</td>\n",
       "      <td>Category 1</td>\n",
       "      <td>Category 65</td>\n",
       "      <td>2</td>\n",
       "      <td>In-store</td>\n",
       "      <td>1</td>\n",
       "      <td>Country A</td>\n",
       "    </tr>\n",
       "  </tbody>\n",
       "</table>\n",
       "<p>265989 rows × 17 columns</p>\n",
       "</div>"
      ],
      "text/plain": [
       "                          basket_item_id                         basket_id  \\\n",
       "0       0654e2f726656877a10cd57eaf5e7d6f  59f2f4a1b87c63e97bf52241699a4387   \n",
       "1       09dc3beeecfe20053b6285e4e2336f65  59f2f4a1b87c63e97bf52241699a4387   \n",
       "2       30ef02221c8f50db650692477824ee0f  11ac30665340ab946544a1e72edf57fd   \n",
       "3       cac3b10c1a1b5e386bf577f2fb0bf3eb  137c0d89e82b17117b98ac481471e873   \n",
       "4       35103592a32e764df0dbb87cb4935b3d  00dd292ec592a7e8c1c620f7648d22d3   \n",
       "...                                  ...                               ...   \n",
       "265984  a2996a0cced841c87664efec212e119f  3a94bb89465380597303256696ec8e08   \n",
       "265985  dac9d751feeabcde8dd0d702d7506466  2d302da31437cf0118e505abbe45d2a9   \n",
       "265986  8d5940dca748ddad8ea7c5b089b0b225  2d302da31437cf0118e505abbe45d2a9   \n",
       "265987  9e32aeeebaffed9f407858da35336403  56be8d74bad5b7886d5b29b00d35bd78   \n",
       "265988  36e05be25cc355392551707971e5929f  56be8d74bad5b7886d5b29b00d35bd78   \n",
       "\n",
       "                             customer_id  sales_channel_id  country_id  \\\n",
       "0       59f2f4a1b87c63e97bf52241699a4387                 2           2   \n",
       "1       59f2f4a1b87c63e97bf52241699a4387                 2           2   \n",
       "2       3e1cb144d5b44ec59f4cc27ad99ec168                 1           1   \n",
       "3       805ed8a2dca893e833352dbedc09eaf6                 2           1   \n",
       "4       ab9a28456f30829f81cf8bcdab3729d7                 2           1   \n",
       "...                                  ...               ...         ...   \n",
       "265984  3a94bb89465380597303256696ec8e08                 2           3   \n",
       "265985  ec898debc89593257aec91a6f9a15dd4                 2           3   \n",
       "265986  ec898debc89593257aec91a6f9a15dd4                 2           3   \n",
       "265987  6ec318032e870de821d22f09cfe00883                 2           1   \n",
       "265988  6ec318032e870de821d22f09cfe00883                 2           1   \n",
       "\n",
       "        category_id                           product  quantity  price_total  \\\n",
       "0        l1-1|l2-46  82005b5333cfe3b63634cf1afaac86af         2        14.57   \n",
       "1        l1-1|l2-46  82005b5333cfe3b63634cf1afaac86af         1        12.86   \n",
       "2         l1-4|l2-1  3e32de32b8cf2f3d8e72ecfcf99daee1         2         3.02   \n",
       "3        l1-2|l2-97  abec16f483abb4f1810ca029aadf8446         1        12.76   \n",
       "4         l1-4|l2-4  721954837adbdf1aeecdf6d31715536f         1         2.55   \n",
       "...             ...                               ...       ...          ...   \n",
       "265984  l1-1|l2-101  9acf1b76f369030270de8f98f84d6707         2        16.36   \n",
       "265985   l1-1|l2-68  4edaa105d5f53590338791951e38c3ad         1         2.92   \n",
       "265986   l1-1|l2-68  4edaa105d5f53590338791951e38c3ad         2        13.27   \n",
       "265987   l1-1|l2-65  9c70cb2f32394f12a8527ccb82da9942         1        18.90   \n",
       "265988   l1-1|l2-65  9c70cb2f32394f12a8527ccb82da9942         1         9.69   \n",
       "\n",
       "       date_trading_nk category_id.1 category_l1_name category_l2_name  \\\n",
       "0           2021-03-07    l1-1|l2-46       Category 1      Category 46   \n",
       "1           2021-03-07    l1-1|l2-46       Category 1      Category 46   \n",
       "2           2021-03-07     l1-4|l2-1       Category 4       Category 1   \n",
       "3           2021-03-07    l1-2|l2-97       Category 2      Category 97   \n",
       "4           2021-03-07     l1-4|l2-4       Category 4       Category 4   \n",
       "...                ...           ...              ...              ...   \n",
       "265984      2021-09-21   l1-1|l2-101       Category 1     Category 101   \n",
       "265985      2021-09-21    l1-1|l2-68       Category 1      Category 68   \n",
       "265986      2021-09-21    l1-1|l2-68       Category 1      Category 68   \n",
       "265987      2021-09-21    l1-1|l2-65       Category 1      Category 65   \n",
       "265988      2021-09-21    l1-1|l2-65       Category 1      Category 65   \n",
       "\n",
       "        sales_channel_id.1 sales_channel_name  country_id.1 country_name  \n",
       "0                        2           In-store             2    Country B  \n",
       "1                        2           In-store             2    Country B  \n",
       "2                        1             Online             1    Country A  \n",
       "3                        2           In-store             1    Country A  \n",
       "4                        2           In-store             1    Country A  \n",
       "...                    ...                ...           ...          ...  \n",
       "265984                   2           In-store             3    Country C  \n",
       "265985                   2           In-store             3    Country C  \n",
       "265986                   2           In-store             3    Country C  \n",
       "265987                   2           In-store             1    Country A  \n",
       "265988                   2           In-store             1    Country A  \n",
       "\n",
       "[265989 rows x 17 columns]"
      ]
     },
     "execution_count": 8,
     "metadata": {},
     "output_type": "execute_result"
    }
   ],
   "source": [
    "df_agg"
   ]
  },
  {
   "cell_type": "code",
   "execution_count": 9,
   "id": "9503fd70",
   "metadata": {},
   "outputs": [
    {
     "data": {
      "text/plain": [
       "<AxesSubplot:xlabel='price_total', ylabel='quantity'>"
      ]
     },
     "execution_count": 9,
     "metadata": {},
     "output_type": "execute_result"
    },
    {
     "data": {
      "image/png": "[encoded data removed]",
      "text/plain": [
       "<Figure size 432x288 with 1 Axes>"
      ]
     },
     "metadata": {
      "needs_background": "light"
     },
     "output_type": "display_data"
    }
   ],
   "source": [
    "#investigate sales vs share of one star\n",
    "sns.scatterplot(x=df_agg['price_total'],y=df_agg['quantity'])"
   ]
  },
  {
   "cell_type": "code",
   "execution_count": null,
   "id": "284c0c35",
   "metadata": {},
   "outputs": [],
   "source": [
    "fig = plt.subplots(figsize=(12,7))\n",
    "sns.scatterplot(data=sorted_sellers,x=sorted_sellers['share_of_one_stars'],y=sorted_sellers['delay_to_carrier'],hue='Tier',size='month_integer')"
   ]
  },
  {
   "cell_type": "code",
   "execution_count": null,
   "id": "2d892a26",
   "metadata": {},
   "outputs": [],
   "source": [
    "features=data.columns\n",
    "rs=round(data.loc[data.type=='red',features].describe(),2)\n",
    "ws=round(data.loc[data.type=='white',features].describe(),2)\n",
    "\n",
    "pd.concat([rs,ws],axis=0,keys=['Red Wine Stats', 'White Wine Stats']).T"
   ]
  },
  {
   "cell_type": "code",
   "execution_count": null,
   "id": "06344c50",
   "metadata": {},
   "outputs": [],
   "source": [
    "corr=data.corr()"
   ]
  },
  {
   "cell_type": "markdown",
   "id": "cf7720c6",
   "metadata": {},
   "source": [
    "# EVOLUTION OF KEY BUSINESS METRICS"
   ]
  },
  {
   "cell_type": "markdown",
   "id": "a20054a3",
   "metadata": {},
   "source": [
    "### BLA"
   ]
  },
  {
   "cell_type": "markdown",
   "id": "f3d21e3f",
   "metadata": {},
   "source": [
    "# BLA"
   ]
  },
  {
   "cell_type": "code",
   "execution_count": null,
   "id": "71694502",
   "metadata": {},
   "outputs": [],
   "source": []
  }
 ],
 "metadata": {
  "kernelspec": {
   "display_name": "Python 3 (ipykernel)",
   "language": "python",
   "name": "python3"
  },
  "language_info": {
   "codemirror_mode": {
    "name": "ipython",
    "version": 3
   },
   "file_extension": ".py",
   "mimetype": "text/x-python",
   "name": "python",
   "nbconvert_exporter": "python",
   "pygments_lexer": "ipython3",
   "version": "3.8.12"
  },
  "toc": {
   "base_numbering": 1,
   "nav_menu": {},
   "number_sections": true,
   "sideBar": true,
   "skip_h1_title": false,
   "title_cell": "Table of Contents",
   "title_sidebar": "Contents",
   "toc_cell": false,
   "toc_position": {},
   "toc_section_display": true,
   "toc_window_display": false
  }
 },
 "nbformat": 4,
 "nbformat_minor": 5
}
