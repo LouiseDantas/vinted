{
 "cells": [
  {
   "cell_type": "code",
   "execution_count": 237,
   "id": "b860334b",
   "metadata": {},
   "outputs": [],
   "source": [
    "import pandas as pd\n",
    "import numpy as np \n",
    "import matplotlib.pyplot as plt\n",
    "import seaborn as sns\n",
    "import statsmodels.formula.api as smf\n",
    "import statsmodels.api as sm\n",
    "import warnings\n",
    "warnings.filterwarnings('ignore')\n",
    "from statsmodels.formula.api import ols"
   ]
  },
  {
   "cell_type": "markdown",
   "id": "9f48eb81",
   "metadata": {
    "heading_collapsed": true
   },
   "source": [
    "# Get DataFrame"
   ]
  },
  {
   "cell_type": "code",
   "execution_count": 240,
   "id": "d48ead7d",
   "metadata": {
    "hidden": true
   },
   "outputs": [],
   "source": [
    "df=pd.read_csv('/home/louisedantas/code/LouiseDantas/vinted/Pricingdata.csv')"
   ]
  },
  {
   "cell_type": "code",
   "execution_count": 241,
   "id": "c0b9ab01",
   "metadata": {
    "hidden": true
   },
   "outputs": [
    {
     "data": {
      "text/html": [
       "<div>\n",
       "<style scoped>\n",
       "    .dataframe tbody tr th:only-of-type {\n",
       "        vertical-align: middle;\n",
       "    }\n",
       "\n",
       "    .dataframe tbody tr th {\n",
       "        vertical-align: top;\n",
       "    }\n",
       "\n",
       "    .dataframe thead th {\n",
       "        text-align: right;\n",
       "    }\n",
       "</style>\n",
       "<table border=\"1\" class=\"dataframe\">\n",
       "  <thead>\n",
       "    <tr style=\"text-align: right;\">\n",
       "      <th></th>\n",
       "      <th>category_2</th>\n",
       "      <th>category_3</th>\n",
       "      <th>number_of_listings</th>\n",
       "      <th>avg_listing_price_eur</th>\n",
       "      <th>revenue_from_push_ups</th>\n",
       "    </tr>\n",
       "  </thead>\n",
       "  <tbody>\n",
       "    <tr>\n",
       "      <th>0</th>\n",
       "      <td>ACCESSORIES_JEWELLERY</td>\n",
       "      <td>ACCESS_MOBILE</td>\n",
       "      <td>14228</td>\n",
       "      <td>28.081851</td>\n",
       "      <td>492.0</td>\n",
       "    </tr>\n",
       "    <tr>\n",
       "      <th>1</th>\n",
       "      <td>ACCESSORIES_JEWELLERY</td>\n",
       "      <td>BELTS</td>\n",
       "      <td>29838</td>\n",
       "      <td>21.273161</td>\n",
       "      <td>1382.0</td>\n",
       "    </tr>\n",
       "    <tr>\n",
       "      <th>2</th>\n",
       "      <td>ACCESSORIES_JEWELLERY</td>\n",
       "      <td>GLOVES</td>\n",
       "      <td>6350</td>\n",
       "      <td>17.043860</td>\n",
       "      <td>304.0</td>\n",
       "    </tr>\n",
       "    <tr>\n",
       "      <th>3</th>\n",
       "      <td>ACCESSORIES_JEWELLERY</td>\n",
       "      <td>JEWELRY</td>\n",
       "      <td>343493</td>\n",
       "      <td>17.935880</td>\n",
       "      <td>20554.0</td>\n",
       "    </tr>\n",
       "    <tr>\n",
       "      <th>4</th>\n",
       "      <td>ACCESSORIES_JEWELLERY</td>\n",
       "      <td>KEY_RINGS</td>\n",
       "      <td>5</td>\n",
       "      <td>15.900000</td>\n",
       "      <td>NaN</td>\n",
       "    </tr>\n",
       "  </tbody>\n",
       "</table>\n",
       "</div>"
      ],
      "text/plain": [
       "              category_2     category_3  number_of_listings  \\\n",
       "0  ACCESSORIES_JEWELLERY  ACCESS_MOBILE               14228   \n",
       "1  ACCESSORIES_JEWELLERY          BELTS               29838   \n",
       "2  ACCESSORIES_JEWELLERY         GLOVES                6350   \n",
       "3  ACCESSORIES_JEWELLERY        JEWELRY              343493   \n",
       "4  ACCESSORIES_JEWELLERY      KEY_RINGS                   5   \n",
       "\n",
       "   avg_listing_price_eur  revenue_from_push_ups  \n",
       "0              28.081851                  492.0  \n",
       "1              21.273161                 1382.0  \n",
       "2              17.043860                  304.0  \n",
       "3              17.935880                20554.0  \n",
       "4              15.900000                    NaN  "
      ]
     },
     "execution_count": 241,
     "metadata": {},
     "output_type": "execute_result"
    }
   ],
   "source": [
    "df.head()"
   ]
  },
  {
   "cell_type": "markdown",
   "id": "c7b20ec5",
   "metadata": {},
   "source": [
    "# Clean and Process Data"
   ]
  },
  {
   "cell_type": "markdown",
   "id": "fecaa61c",
   "metadata": {},
   "source": [
    "a. Check for Duplicates"
   ]
  },
  {
   "cell_type": "code",
   "execution_count": 242,
   "id": "4ebceba3",
   "metadata": {},
   "outputs": [],
   "source": [
    "df[df.duplicated()]\n",
    "duplicate_count=len(df[df.duplicated()])"
   ]
  },
  {
   "cell_type": "code",
   "execution_count": 243,
   "id": "2865dd56",
   "metadata": {},
   "outputs": [
    {
     "data": {
      "text/plain": [
       "2"
      ]
     },
     "execution_count": 243,
     "metadata": {},
     "output_type": "execute_result"
    }
   ],
   "source": [
    "duplicate_count"
   ]
  },
  {
   "cell_type": "markdown",
   "id": "a60cdb17",
   "metadata": {},
   "source": [
    "b. Check for Missing Values"
   ]
  },
  {
   "cell_type": "code",
   "execution_count": 244,
   "id": "b3545d4e",
   "metadata": {},
   "outputs": [
    {
     "data": {
      "text/plain": [
       "category_2               0.004202\n",
       "category_3               0.033613\n",
       "number_of_listings       0.000000\n",
       "avg_listing_price_eur    0.000000\n",
       "revenue_from_push_ups    0.063025\n",
       "dtype: float64"
      ]
     },
     "execution_count": 244,
     "metadata": {},
     "output_type": "execute_result"
    }
   ],
   "source": [
    "df.isnull().sum()/len(df)"
   ]
  },
  {
   "cell_type": "code",
   "execution_count": 245,
   "id": "6a56766a",
   "metadata": {},
   "outputs": [],
   "source": [
    "#replace push ups with zero\n",
    "df['revenue_from_push_ups']=df['revenue_from_push_ups'].fillna(0)"
   ]
  },
  {
   "cell_type": "code",
   "execution_count": 246,
   "id": "91f4f14e",
   "metadata": {},
   "outputs": [
    {
     "data": {
      "text/html": [
       "<div>\n",
       "<style scoped>\n",
       "    .dataframe tbody tr th:only-of-type {\n",
       "        vertical-align: middle;\n",
       "    }\n",
       "\n",
       "    .dataframe tbody tr th {\n",
       "        vertical-align: top;\n",
       "    }\n",
       "\n",
       "    .dataframe thead th {\n",
       "        text-align: right;\n",
       "    }\n",
       "</style>\n",
       "<table border=\"1\" class=\"dataframe\">\n",
       "  <thead>\n",
       "    <tr style=\"text-align: right;\">\n",
       "      <th></th>\n",
       "      <th>category_2</th>\n",
       "      <th>category_3</th>\n",
       "      <th>number_of_listings</th>\n",
       "      <th>avg_listing_price_eur</th>\n",
       "      <th>revenue_from_push_ups</th>\n",
       "    </tr>\n",
       "  </thead>\n",
       "  <tbody>\n",
       "    <tr>\n",
       "      <th>15</th>\n",
       "      <td>ALL_OTHERS</td>\n",
       "      <td>NaN</td>\n",
       "      <td>70215</td>\n",
       "      <td>18.269067</td>\n",
       "      <td>3274.0</td>\n",
       "    </tr>\n",
       "    <tr>\n",
       "      <th>75</th>\n",
       "      <td>CLO_SETS</td>\n",
       "      <td>NaN</td>\n",
       "      <td>1786</td>\n",
       "      <td>10.963539</td>\n",
       "      <td>0.0</td>\n",
       "    </tr>\n",
       "    <tr>\n",
       "      <th>124</th>\n",
       "      <td>GIR_OTHER_CLOTHES</td>\n",
       "      <td>NaN</td>\n",
       "      <td>769</td>\n",
       "      <td>7.701365</td>\n",
       "      <td>36.0</td>\n",
       "    </tr>\n",
       "    <tr>\n",
       "      <th>125</th>\n",
       "      <td>GIR_SETS</td>\n",
       "      <td>NaN</td>\n",
       "      <td>2594</td>\n",
       "      <td>9.851823</td>\n",
       "      <td>0.0</td>\n",
       "    </tr>\n",
       "    <tr>\n",
       "      <th>178</th>\n",
       "      <td>MEN_VESTS</td>\n",
       "      <td>NaN</td>\n",
       "      <td>2719</td>\n",
       "      <td>39.643781</td>\n",
       "      <td>214.0</td>\n",
       "    </tr>\n",
       "    <tr>\n",
       "      <th>211</th>\n",
       "      <td>TABLES_FOR_DIAPERS_CHANGING</td>\n",
       "      <td>NaN</td>\n",
       "      <td>465</td>\n",
       "      <td>70.632237</td>\n",
       "      <td>38.0</td>\n",
       "    </tr>\n",
       "    <tr>\n",
       "      <th>219</th>\n",
       "      <td>TRADITIONAL_NATIONAL_CLOTHING</td>\n",
       "      <td>NaN</td>\n",
       "      <td>838</td>\n",
       "      <td>52.401539</td>\n",
       "      <td>120.0</td>\n",
       "    </tr>\n",
       "    <tr>\n",
       "      <th>237</th>\n",
       "      <td>NaN</td>\n",
       "      <td>NaN</td>\n",
       "      <td>35999</td>\n",
       "      <td>34.067395</td>\n",
       "      <td>2532.0</td>\n",
       "    </tr>\n",
       "  </tbody>\n",
       "</table>\n",
       "</div>"
      ],
      "text/plain": [
       "                        category_2 category_3  number_of_listings  \\\n",
       "15                      ALL_OTHERS        NaN               70215   \n",
       "75                        CLO_SETS        NaN                1786   \n",
       "124              GIR_OTHER_CLOTHES        NaN                 769   \n",
       "125                       GIR_SETS        NaN                2594   \n",
       "178                      MEN_VESTS        NaN                2719   \n",
       "211    TABLES_FOR_DIAPERS_CHANGING        NaN                 465   \n",
       "219  TRADITIONAL_NATIONAL_CLOTHING        NaN                 838   \n",
       "237                            NaN        NaN               35999   \n",
       "\n",
       "     avg_listing_price_eur  revenue_from_push_ups  \n",
       "15               18.269067                 3274.0  \n",
       "75               10.963539                    0.0  \n",
       "124               7.701365                   36.0  \n",
       "125               9.851823                    0.0  \n",
       "178              39.643781                  214.0  \n",
       "211              70.632237                   38.0  \n",
       "219              52.401539                  120.0  \n",
       "237              34.067395                 2532.0  "
      ]
     },
     "execution_count": 246,
     "metadata": {},
     "output_type": "execute_result"
    }
   ],
   "source": [
    "df[df['category_3'].isna()]"
   ]
  },
  {
   "cell_type": "markdown",
   "id": "855416bd",
   "metadata": {},
   "source": [
    "c. Check Outliers"
   ]
  },
  {
   "cell_type": "code",
   "execution_count": 247,
   "id": "33651960",
   "metadata": {},
   "outputs": [
    {
     "data": {
      "image/png": "[encoded data removed]",
      "text/plain": [
       "<Figure size 1080x576 with 1 Axes>"
      ]
     },
     "metadata": {
      "needs_background": "light"
     },
     "output_type": "display_data"
    }
   ],
   "source": [
    "plt.figure(figsize=(15,8))\n",
    "sns.boxplot(x = df[\"category_2\"], y = df[\"revenue_from_push_ups\"])\n",
    "plt.show()"
   ]
  },
  {
   "cell_type": "markdown",
   "id": "6bc41396",
   "metadata": {},
   "source": [
    "# Create new Columns"
   ]
  },
  {
   "cell_type": "code",
   "execution_count": 248,
   "id": "ef79c55f",
   "metadata": {},
   "outputs": [],
   "source": [
    "df['total_listing_inventory']=df['number_of_listings']*df['avg_listing_price_eur']"
   ]
  },
  {
   "cell_type": "code",
   "execution_count": 249,
   "id": "a63b6da3",
   "metadata": {},
   "outputs": [],
   "source": [
    "df['rev_push_ups_on_tot_inv']=df['revenue_from_push_ups']/df['total_listing_inventory']*100"
   ]
  },
  {
   "cell_type": "code",
   "execution_count": 250,
   "id": "a80c4bf6",
   "metadata": {},
   "outputs": [],
   "source": [
    "df['qty_push_up']=df['revenue_from_push_ups']/2\n",
    "df['perc_push_up']=(df['qty_push_up']/df['number_of_listings'])*100"
   ]
  },
  {
   "cell_type": "code",
   "execution_count": 258,
   "id": "218ed4ac",
   "metadata": {},
   "outputs": [],
   "source": [
    "df['push_up_as_perc_item']=(2/df['avg_listing_price_eur'])*100"
   ]
  },
  {
   "cell_type": "code",
   "execution_count": 267,
   "id": "b8a8a729",
   "metadata": {},
   "outputs": [],
   "source": [
    "df['category_concat']=df['category_2']+'_'+df['category_3']"
   ]
  },
  {
   "cell_type": "markdown",
   "id": "eeed92b2",
   "metadata": {},
   "source": [
    "# Section I"
   ]
  },
  {
   "cell_type": "markdown",
   "id": "3da92073",
   "metadata": {},
   "source": [
    "## A - Are users interested in PushUps? Which categories perform the best"
   ]
  },
  {
   "cell_type": "markdown",
   "id": "ba5e4600",
   "metadata": {},
   "source": [
    "### How many push ups in relation to the number of listings"
   ]
  },
  {
   "cell_type": "code",
   "execution_count": 262,
   "id": "c11aaf2b",
   "metadata": {},
   "outputs": [
    {
     "data": {
      "text/plain": [
       "0.03205550279162736"
      ]
     },
     "execution_count": 262,
     "metadata": {},
     "output_type": "execute_result"
    }
   ],
   "source": [
    "df['qty_push_up'].sum()/df['number_of_listings'].sum()"
   ]
  },
  {
   "cell_type": "markdown",
   "id": "a6c15843",
   "metadata": {},
   "source": [
    "### Finding Macro Categories that has higher % of push ups in revenue"
   ]
  },
  {
   "cell_type": "code",
   "execution_count": 269,
   "id": "318641b6",
   "metadata": {},
   "outputs": [],
   "source": [
    "df_cat_push_up=df[['category_concat','rev_push_ups_on_tot_inv']].groupby(by=[\"category_concat\"],dropna=False).mean()"
   ]
  },
  {
   "cell_type": "code",
   "execution_count": 270,
   "id": "307223de",
   "metadata": {},
   "outputs": [
    {
     "data": {
      "text/html": [
       "<div>\n",
       "<style scoped>\n",
       "    .dataframe tbody tr th:only-of-type {\n",
       "        vertical-align: middle;\n",
       "    }\n",
       "\n",
       "    .dataframe tbody tr th {\n",
       "        vertical-align: top;\n",
       "    }\n",
       "\n",
       "    .dataframe thead th {\n",
       "        text-align: right;\n",
       "    }\n",
       "</style>\n",
       "<table border=\"1\" class=\"dataframe\">\n",
       "  <thead>\n",
       "    <tr style=\"text-align: right;\">\n",
       "      <th></th>\n",
       "      <th>rev_push_ups_on_tot_inv</th>\n",
       "    </tr>\n",
       "    <tr>\n",
       "      <th>category_concat</th>\n",
       "      <th></th>\n",
       "    </tr>\n",
       "  </thead>\n",
       "  <tbody>\n",
       "    <tr>\n",
       "      <th>BAGS_BACKPACKS_SATCHELS_NEW</th>\n",
       "      <td>1.075269</td>\n",
       "    </tr>\n",
       "    <tr>\n",
       "      <th>OUTDOOR_TOYS_SKIS_AND_SNOWBOARDS</th>\n",
       "      <td>0.650909</td>\n",
       "    </tr>\n",
       "    <tr>\n",
       "      <th>MOVING_GEAR_ROLLER_SKATES</th>\n",
       "      <td>0.617998</td>\n",
       "    </tr>\n",
       "    <tr>\n",
       "      <th>MOVING_GEAR_BABY_BOUNCY_SEATS</th>\n",
       "      <td>0.615193</td>\n",
       "    </tr>\n",
       "    <tr>\n",
       "      <th>COSMETICS_AND_BEAUTY_PRODUCTS_WOM_COS_MAK_COSMETICS</th>\n",
       "      <td>0.592058</td>\n",
       "    </tr>\n",
       "  </tbody>\n",
       "</table>\n",
       "</div>"
      ],
      "text/plain": [
       "                                                    rev_push_ups_on_tot_inv\n",
       "category_concat                                                            \n",
       "BAGS_BACKPACKS_SATCHELS_NEW                                        1.075269\n",
       "OUTDOOR_TOYS_SKIS_AND_SNOWBOARDS                                   0.650909\n",
       "MOVING_GEAR_ROLLER_SKATES                                          0.617998\n",
       "MOVING_GEAR_BABY_BOUNCY_SEATS                                      0.615193\n",
       "COSMETICS_AND_BEAUTY_PRODUCTS_WOM_COS_MAK_COSME...                 0.592058"
      ]
     },
     "execution_count": 270,
     "metadata": {},
     "output_type": "execute_result"
    }
   ],
   "source": [
    "df_cat_push_up.sort_values(by='rev_push_ups_on_tot_inv', ascending=False).head(5)"
   ]
  },
  {
   "cell_type": "markdown",
   "id": "eccb1c14",
   "metadata": {},
   "source": [
    "### Which Categories Perform the best on percentage push up volume"
   ]
  },
  {
   "cell_type": "code",
   "execution_count": 272,
   "id": "af739155",
   "metadata": {},
   "outputs": [
    {
     "data": {
      "text/html": [
       "<div>\n",
       "<style scoped>\n",
       "    .dataframe tbody tr th:only-of-type {\n",
       "        vertical-align: middle;\n",
       "    }\n",
       "\n",
       "    .dataframe tbody tr th {\n",
       "        vertical-align: top;\n",
       "    }\n",
       "\n",
       "    .dataframe thead th {\n",
       "        text-align: right;\n",
       "    }\n",
       "</style>\n",
       "<table border=\"1\" class=\"dataframe\">\n",
       "  <thead>\n",
       "    <tr style=\"text-align: right;\">\n",
       "      <th></th>\n",
       "      <th>perc_push_up</th>\n",
       "    </tr>\n",
       "    <tr>\n",
       "      <th>category_concat</th>\n",
       "      <th></th>\n",
       "    </tr>\n",
       "  </thead>\n",
       "  <tbody>\n",
       "    <tr>\n",
       "      <th>MEN_SHOES_NEW_MEN_FORMAL</th>\n",
       "      <td>18.181818</td>\n",
       "    </tr>\n",
       "    <tr>\n",
       "      <th>STROLLERS_SPORT_STROLLERS</th>\n",
       "      <td>9.237421</td>\n",
       "    </tr>\n",
       "    <tr>\n",
       "      <th>STROLLERS_UMBRELLA_SHAPE_STROLLERS</th>\n",
       "      <td>9.025944</td>\n",
       "    </tr>\n",
       "    <tr>\n",
       "      <th>BABY_FURNITURE_NURSERIES</th>\n",
       "      <td>8.814959</td>\n",
       "    </tr>\n",
       "    <tr>\n",
       "      <th>MEN_OUTERWEAR_MEN_OUT_HALF_LENGTH_COATS</th>\n",
       "      <td>8.633406</td>\n",
       "    </tr>\n",
       "  </tbody>\n",
       "</table>\n",
       "</div>"
      ],
      "text/plain": [
       "                                         perc_push_up\n",
       "category_concat                                      \n",
       "MEN_SHOES_NEW_MEN_FORMAL                    18.181818\n",
       "STROLLERS_SPORT_STROLLERS                    9.237421\n",
       "STROLLERS_UMBRELLA_SHAPE_STROLLERS           9.025944\n",
       "BABY_FURNITURE_NURSERIES                     8.814959\n",
       "MEN_OUTERWEAR_MEN_OUT_HALF_LENGTH_COATS      8.633406"
      ]
     },
     "execution_count": 272,
     "metadata": {},
     "output_type": "execute_result"
    }
   ],
   "source": [
    "df_cat_push_up=df[['category_concat','perc_push_up']].groupby(by=[\"category_concat\"],dropna=False).mean()\n",
    "df_cat_push_up.sort_values(by='perc_push_up', ascending=False).head(5)"
   ]
  },
  {
   "cell_type": "markdown",
   "id": "7b3ea2ba",
   "metadata": {},
   "source": [
    "### Categories with higher absolute push ups volume"
   ]
  },
  {
   "cell_type": "code",
   "execution_count": 271,
   "id": "050d146f",
   "metadata": {},
   "outputs": [
    {
     "data": {
      "text/html": [
       "<div>\n",
       "<style scoped>\n",
       "    .dataframe tbody tr th:only-of-type {\n",
       "        vertical-align: middle;\n",
       "    }\n",
       "\n",
       "    .dataframe tbody tr th {\n",
       "        vertical-align: top;\n",
       "    }\n",
       "\n",
       "    .dataframe thead th {\n",
       "        text-align: right;\n",
       "    }\n",
       "</style>\n",
       "<table border=\"1\" class=\"dataframe\">\n",
       "  <thead>\n",
       "    <tr style=\"text-align: right;\">\n",
       "      <th></th>\n",
       "      <th>qty_push_up</th>\n",
       "    </tr>\n",
       "    <tr>\n",
       "      <th>category_concat</th>\n",
       "      <th></th>\n",
       "    </tr>\n",
       "  </thead>\n",
       "  <tbody>\n",
       "    <tr>\n",
       "      <th>WOMENS_DRESSES</th>\n",
       "      <td>39712.0</td>\n",
       "    </tr>\n",
       "    <tr>\n",
       "      <th>WOMENS_TOPS_T_SHIRTS</th>\n",
       "      <td>38083.0</td>\n",
       "    </tr>\n",
       "    <tr>\n",
       "      <th>WOMENS_OUTERWEAR</th>\n",
       "      <td>28516.0</td>\n",
       "    </tr>\n",
       "    <tr>\n",
       "      <th>WOMENS_PULLOVERS_SWEATERS</th>\n",
       "      <td>23564.0</td>\n",
       "    </tr>\n",
       "    <tr>\n",
       "      <th>FOOTWEAR_W_TRAINERS</th>\n",
       "      <td>21679.0</td>\n",
       "    </tr>\n",
       "  </tbody>\n",
       "</table>\n",
       "</div>"
      ],
      "text/plain": [
       "                           qty_push_up\n",
       "category_concat                       \n",
       "WOMENS_DRESSES                 39712.0\n",
       "WOMENS_TOPS_T_SHIRTS           38083.0\n",
       "WOMENS_OUTERWEAR               28516.0\n",
       "WOMENS_PULLOVERS_SWEATERS      23564.0\n",
       "FOOTWEAR_W_TRAINERS            21679.0"
      ]
     },
     "execution_count": 271,
     "metadata": {},
     "output_type": "execute_result"
    }
   ],
   "source": [
    "df_cat3_push_up=df[['category_concat','qty_push_up']].groupby(by=[\"category_concat\"],dropna=False).mean()\n",
    "df_cat3_push_up.sort_values(by='qty_push_up', ascending=False).head(5)"
   ]
  },
  {
   "cell_type": "markdown",
   "id": "9b3d10ed",
   "metadata": {},
   "source": [
    "### To find out if users are interested in this category I would look at quantity of push ups. We see that the push ups corresponds to 3% of our listings volume.  As total push-up quantity, categories Womens_dresses, womens_top_tshirts and womens_outerwear are the top 3. "
   ]
  },
  {
   "cell_type": "markdown",
   "id": "746cc482",
   "metadata": {},
   "source": [
    "## B Metric correlates with %of push up inventory"
   ]
  },
  {
   "cell_type": "code",
   "execution_count": 192,
   "id": "9a388a0b",
   "metadata": {},
   "outputs": [
    {
     "data": {
      "image/png": "[encoded data removed]",
      "text/plain": [
       "<Figure size 576x576 with 2 Axes>"
      ]
     },
     "metadata": {
      "needs_background": "light"
     },
     "output_type": "display_data"
    }
   ],
   "source": [
    "df_corr=df.corr()\n",
    "plt.figure(figsize=(8,8))\n",
    "hm = sns.heatmap(df_corr, annot=True, square=True, fmt='.2f', annot_kws={'size': 12})\n",
    "plt.show()"
   ]
  },
  {
   "cell_type": "code",
   "execution_count": 290,
   "id": "e50ab997",
   "metadata": {},
   "outputs": [],
   "source": [
    "df_clean=df[df['perc_push_up']>0]\n",
    "df_clean=df_clean[df_clean['avg_listing_price_eur']<100]\n",
    "df_clean=df_clean[df_clean['push_up_as_perc_item']<40]"
   ]
  },
  {
   "cell_type": "code",
   "execution_count": 291,
   "id": "537f81a4",
   "metadata": {},
   "outputs": [
    {
     "data": {
      "text/plain": [
       "<AxesSubplot:xlabel='perc_push_up', ylabel='push_up_as_perc_item'>"
      ]
     },
     "execution_count": 291,
     "metadata": {},
     "output_type": "execute_result"
    },
    {
     "data": {
      "image/png": "[encoded data removed]",
      "text/plain": [
       "<Figure size 936x360 with 2 Axes>"
      ]
     },
     "metadata": {
      "needs_background": "light"
     },
     "output_type": "display_data"
    }
   ],
   "source": [
    "plt.figure(figsize=(13,5))\n",
    "\n",
    "plt.subplot(1,2,1)\n",
    "sns.regplot(x = df_clean.perc_push_up, y= df_clean.avg_listing_price_eur,y_jitter=.1)\n",
    "#plt.xlim(right=1)\n",
    "#plt.ylim(bottom=0)\n",
    "#plt.ylim(top=100)\n",
    "\n",
    "plt.subplot(1,2,2)\n",
    "sns.scatterplot(x = df_clean.perc_push_up, y= df_clean.push_up_as_perc_item)\n",
    "#plt.xlim(right=1)\n",
    "#plt.ylim(bottom=0)\n",
    "#plt.ylim(top=1000)"
   ]
  },
  {
   "cell_type": "code",
   "execution_count": 284,
   "id": "00031ca1",
   "metadata": {},
   "outputs": [
    {
     "data": {
      "text/plain": [
       "<statsmodels.regression.linear_model.RegressionResultsWrapper at 0x7f715116c940>"
      ]
     },
     "execution_count": 284,
     "metadata": {},
     "output_type": "execute_result"
    }
   ],
   "source": [
    "# Instanciate a model\n",
    "model = smf.ols(formula='perc_push_up ~ avg_listing_price_eur', data=df_clean)\n",
    "\n",
    "# Train the model to find best line\n",
    "model = model.fit() \n",
    "model"
   ]
  },
  {
   "cell_type": "code",
   "execution_count": 285,
   "id": "3ad4dae7",
   "metadata": {},
   "outputs": [
    {
     "name": "stdout",
     "output_type": "stream",
     "text": [
      "Intercept                1.551629\n",
      "avg_listing_price_eur    0.068775\n",
      "dtype: float64\n"
     ]
    }
   ],
   "source": [
    "print(model.params)"
   ]
  },
  {
   "cell_type": "code",
   "execution_count": 286,
   "id": "03108111",
   "metadata": {},
   "outputs": [
    {
     "data": {
      "text/plain": [
       "0.48261412795831793"
      ]
     },
     "execution_count": 286,
     "metadata": {},
     "output_type": "execute_result"
    }
   ],
   "source": [
    "model.rsquared"
   ]
  },
  {
   "cell_type": "markdown",
   "id": "76fa8848",
   "metadata": {},
   "source": [
    "## C Explain how push up is performing. Can we improve?"
   ]
  },
  {
   "cell_type": "code",
   "execution_count": 289,
   "id": "4b8745c8",
   "metadata": {},
   "outputs": [
    {
     "data": {
      "text/plain": [
       "12.828346832480385"
      ]
     },
     "execution_count": 289,
     "metadata": {},
     "output_type": "execute_result"
    }
   ],
   "source": [
    "df['push_up_as_perc_item'].mean()"
   ]
  },
  {
   "cell_type": "code",
   "execution_count": 292,
   "id": "6bc957ce",
   "metadata": {},
   "outputs": [
    {
     "data": {
      "text/plain": [
       "3.41824232632439"
      ]
     },
     "execution_count": 292,
     "metadata": {},
     "output_type": "execute_result"
    }
   ],
   "source": [
    "df['perc_push_up'].mean()"
   ]
  },
  {
   "cell_type": "markdown",
   "id": "9c49bec1",
   "metadata": {},
   "source": [
    "It does seem that we are not in the optimum point of the curve. We could have a lower push_up price as percentage of item price to drive more volume."
   ]
  },
  {
   "cell_type": "markdown",
   "id": "d6202081",
   "metadata": {},
   "source": [
    "## Girls Clothing and For babies category"
   ]
  },
  {
   "cell_type": "code",
   "execution_count": 295,
   "id": "4f006b39",
   "metadata": {},
   "outputs": [],
   "source": [
    "df_girls=df[df['category_2']=='GIRLS_CLOTHING']"
   ]
  },
  {
   "cell_type": "code",
   "execution_count": 296,
   "id": "2d91d991",
   "metadata": {},
   "outputs": [
    {
     "data": {
      "text/plain": [
       "<AxesSubplot:xlabel='perc_push_up', ylabel='push_up_as_perc_item'>"
      ]
     },
     "execution_count": 296,
     "metadata": {},
     "output_type": "execute_result"
    },
    {
     "data": {
      "image/png": "[encoded data removed]",
      "text/plain": [
       "<Figure size 432x288 with 1 Axes>"
      ]
     },
     "metadata": {
      "needs_background": "light"
     },
     "output_type": "display_data"
    }
   ],
   "source": [
    "sns.scatterplot(x = df_girls.perc_push_up, y= df_girls.push_up_as_perc_item)"
   ]
  },
  {
   "cell_type": "markdown",
   "id": "e4e3f7aa",
   "metadata": {},
   "source": [
    "Some reasons: \n",
    "    1.A push up can incentivize buyers to buy more items from that seller \n",
    "    2.For children and baby clothing, the mom will not use the clothes anymore, so the seller doesnt need a big profit. The motivation is probably to declutter the house"
   ]
  },
  {
   "cell_type": "markdown",
   "id": "dd31cd8b",
   "metadata": {},
   "source": [
    "# Section II - Analyse alternative strategies"
   ]
  },
  {
   "cell_type": "markdown",
   "id": "791d2f00",
   "metadata": {},
   "source": [
    "## Change the push up price"
   ]
  },
  {
   "cell_type": "code",
   "execution_count": 195,
   "id": "efdda2fc",
   "metadata": {},
   "outputs": [],
   "source": [
    "#Number of categories existing \n",
    "n_cat3=len(df['category_3'].unique())\n",
    "n_cat2=len(df['category_2'].unique())"
   ]
  },
  {
   "cell_type": "code",
   "execution_count": null,
   "id": "9a2682e5",
   "metadata": {},
   "outputs": [],
   "source": []
  },
  {
   "cell_type": "code",
   "execution_count": 305,
   "id": "b1eb356e",
   "metadata": {},
   "outputs": [
    {
     "data": {
      "text/plain": [
       "0.09182852560038866"
      ]
     },
     "execution_count": 305,
     "metadata": {},
     "output_type": "execute_result"
    }
   ],
   "source": [
    "avg_price=df['total_listing_inventory'].sum()/df['number_of_listings'].sum()\n",
    "#push up as percentage of price\n",
    "2/avg_price"
   ]
  },
  {
   "cell_type": "code",
   "execution_count": 307,
   "id": "19435ddb",
   "metadata": {},
   "outputs": [
    {
     "data": {
      "text/plain": [
       "0.03205550279162736"
      ]
     },
     "execution_count": 307,
     "metadata": {},
     "output_type": "execute_result"
    }
   ],
   "source": [
    "df['qty_push_up'].sum()/df['number_of_listings'].sum()"
   ]
  },
  {
   "cell_type": "code",
   "execution_count": 198,
   "id": "d91e5f4b",
   "metadata": {},
   "outputs": [
    {
     "data": {
      "text/html": [
       "<div>\n",
       "<style scoped>\n",
       "    .dataframe tbody tr th:only-of-type {\n",
       "        vertical-align: middle;\n",
       "    }\n",
       "\n",
       "    .dataframe tbody tr th {\n",
       "        vertical-align: top;\n",
       "    }\n",
       "\n",
       "    .dataframe thead th {\n",
       "        text-align: right;\n",
       "    }\n",
       "</style>\n",
       "<table border=\"1\" class=\"dataframe\">\n",
       "  <thead>\n",
       "    <tr style=\"text-align: right;\">\n",
       "      <th></th>\n",
       "      <th>category_2</th>\n",
       "      <th>category_3</th>\n",
       "      <th>number_of_listings</th>\n",
       "      <th>avg_listing_price_eur</th>\n",
       "      <th>revenue_from_push_ups</th>\n",
       "      <th>total_listing_inventory</th>\n",
       "      <th>%push_ups_on_tot_inv</th>\n",
       "      <th>qty_push_up</th>\n",
       "      <th>perc_push_up</th>\n",
       "      <th>push_up_as_perc_item</th>\n",
       "    </tr>\n",
       "  </thead>\n",
       "  <tbody>\n",
       "    <tr>\n",
       "      <th>0</th>\n",
       "      <td>ACCESSORIES_JEWELLERY</td>\n",
       "      <td>ACCESS_MOBILE</td>\n",
       "      <td>14228</td>\n",
       "      <td>28.081851</td>\n",
       "      <td>492.0</td>\n",
       "      <td>3.995486e+05</td>\n",
       "      <td>0.123139</td>\n",
       "      <td>246.0</td>\n",
       "      <td>1.728985</td>\n",
       "      <td>7.122038</td>\n",
       "    </tr>\n",
       "    <tr>\n",
       "      <th>1</th>\n",
       "      <td>ACCESSORIES_JEWELLERY</td>\n",
       "      <td>BELTS</td>\n",
       "      <td>29838</td>\n",
       "      <td>21.273161</td>\n",
       "      <td>1382.0</td>\n",
       "      <td>6.347486e+05</td>\n",
       "      <td>0.217724</td>\n",
       "      <td>691.0</td>\n",
       "      <td>2.315839</td>\n",
       "      <td>9.401518</td>\n",
       "    </tr>\n",
       "    <tr>\n",
       "      <th>2</th>\n",
       "      <td>ACCESSORIES_JEWELLERY</td>\n",
       "      <td>GLOVES</td>\n",
       "      <td>6350</td>\n",
       "      <td>17.043860</td>\n",
       "      <td>304.0</td>\n",
       "      <td>1.082285e+05</td>\n",
       "      <td>0.280887</td>\n",
       "      <td>152.0</td>\n",
       "      <td>2.393701</td>\n",
       "      <td>11.734431</td>\n",
       "    </tr>\n",
       "    <tr>\n",
       "      <th>3</th>\n",
       "      <td>ACCESSORIES_JEWELLERY</td>\n",
       "      <td>JEWELRY</td>\n",
       "      <td>343493</td>\n",
       "      <td>17.935880</td>\n",
       "      <td>20554.0</td>\n",
       "      <td>6.160849e+06</td>\n",
       "      <td>0.333623</td>\n",
       "      <td>10277.0</td>\n",
       "      <td>2.991910</td>\n",
       "      <td>11.150833</td>\n",
       "    </tr>\n",
       "    <tr>\n",
       "      <th>4</th>\n",
       "      <td>ACCESSORIES_JEWELLERY</td>\n",
       "      <td>KEY_RINGS</td>\n",
       "      <td>5</td>\n",
       "      <td>15.900000</td>\n",
       "      <td>0.0</td>\n",
       "      <td>7.950000e+01</td>\n",
       "      <td>0.000000</td>\n",
       "      <td>0.0</td>\n",
       "      <td>0.000000</td>\n",
       "      <td>12.578616</td>\n",
       "    </tr>\n",
       "    <tr>\n",
       "      <th>5</th>\n",
       "      <td>ACCESSORIES_JEWELLERY</td>\n",
       "      <td>OTHER_ACCESSORIES_AND_JEWELLERY</td>\n",
       "      <td>52245</td>\n",
       "      <td>33.023548</td>\n",
       "      <td>2782.0</td>\n",
       "      <td>1.725315e+06</td>\n",
       "      <td>0.161246</td>\n",
       "      <td>1391.0</td>\n",
       "      <td>2.662456</td>\n",
       "      <td>6.056285</td>\n",
       "    </tr>\n",
       "    <tr>\n",
       "      <th>6</th>\n",
       "      <td>ACCESSORIES_JEWELLERY</td>\n",
       "      <td>SOCKS_TIGHTS_STOCKINGS</td>\n",
       "      <td>8741</td>\n",
       "      <td>6.555352</td>\n",
       "      <td>270.0</td>\n",
       "      <td>5.730033e+04</td>\n",
       "      <td>0.471201</td>\n",
       "      <td>135.0</td>\n",
       "      <td>1.544446</td>\n",
       "      <td>30.509423</td>\n",
       "    </tr>\n",
       "    <tr>\n",
       "      <th>7</th>\n",
       "      <td>ACCESSORIES_JEWELLERY</td>\n",
       "      <td>SUNGLASSES</td>\n",
       "      <td>34020</td>\n",
       "      <td>47.930943</td>\n",
       "      <td>3902.0</td>\n",
       "      <td>1.630611e+06</td>\n",
       "      <td>0.239297</td>\n",
       "      <td>1951.0</td>\n",
       "      <td>5.734862</td>\n",
       "      <td>4.172670</td>\n",
       "    </tr>\n",
       "    <tr>\n",
       "      <th>8</th>\n",
       "      <td>ACCESSORIES_JEWELLERY</td>\n",
       "      <td>TRADITIONA_ACCESSORIES_WOMEN</td>\n",
       "      <td>271</td>\n",
       "      <td>16.507380</td>\n",
       "      <td>6.0</td>\n",
       "      <td>4.473500e+03</td>\n",
       "      <td>0.134123</td>\n",
       "      <td>3.0</td>\n",
       "      <td>1.107011</td>\n",
       "      <td>12.115793</td>\n",
       "    </tr>\n",
       "    <tr>\n",
       "      <th>9</th>\n",
       "      <td>ACCESSORIES_JEWELLERY</td>\n",
       "      <td>WATCHES</td>\n",
       "      <td>66595</td>\n",
       "      <td>67.922934</td>\n",
       "      <td>9238.0</td>\n",
       "      <td>4.523328e+06</td>\n",
       "      <td>0.204230</td>\n",
       "      <td>4619.0</td>\n",
       "      <td>6.935956</td>\n",
       "      <td>2.944514</td>\n",
       "    </tr>\n",
       "    <tr>\n",
       "      <th>10</th>\n",
       "      <td>ACCESSORIES_JEWELLERY</td>\n",
       "      <td>WOM_ACC_HATS_CAPS</td>\n",
       "      <td>53325</td>\n",
       "      <td>13.616058</td>\n",
       "      <td>2448.0</td>\n",
       "      <td>7.260763e+05</td>\n",
       "      <td>0.337155</td>\n",
       "      <td>1224.0</td>\n",
       "      <td>2.295359</td>\n",
       "      <td>14.688539</td>\n",
       "    </tr>\n",
       "    <tr>\n",
       "      <th>11</th>\n",
       "      <td>ACCESSORIES_JEWELLERY</td>\n",
       "      <td>WOM_ACC_SCARVES_SHAWLS</td>\n",
       "      <td>144286</td>\n",
       "      <td>12.811990</td>\n",
       "      <td>5284.0</td>\n",
       "      <td>1.848591e+06</td>\n",
       "      <td>0.285839</td>\n",
       "      <td>2642.0</td>\n",
       "      <td>1.831085</td>\n",
       "      <td>15.610377</td>\n",
       "    </tr>\n",
       "    <tr>\n",
       "      <th>12</th>\n",
       "      <td>ACCESSORIES_JEWELLERY</td>\n",
       "      <td>W_ACC_UMBRELLAS</td>\n",
       "      <td>1</td>\n",
       "      <td>5.000000</td>\n",
       "      <td>0.0</td>\n",
       "      <td>5.000000e+00</td>\n",
       "      <td>0.000000</td>\n",
       "      <td>0.0</td>\n",
       "      <td>0.000000</td>\n",
       "      <td>40.000000</td>\n",
       "    </tr>\n",
       "    <tr>\n",
       "      <th>13</th>\n",
       "      <td>ACCESSORIES_JEWELLERY</td>\n",
       "      <td>W_HAIR_ACCESSORIES</td>\n",
       "      <td>3417</td>\n",
       "      <td>10.078809</td>\n",
       "      <td>100.0</td>\n",
       "      <td>3.443929e+04</td>\n",
       "      <td>0.290366</td>\n",
       "      <td>50.0</td>\n",
       "      <td>1.463272</td>\n",
       "      <td>19.843615</td>\n",
       "    </tr>\n",
       "    <tr>\n",
       "      <th>14</th>\n",
       "      <td>ACCESSORIES_JEWELLERY</td>\n",
       "      <td>W_OTHER_ACCESSORIES</td>\n",
       "      <td>20205</td>\n",
       "      <td>17.182730</td>\n",
       "      <td>1116.0</td>\n",
       "      <td>3.471771e+05</td>\n",
       "      <td>0.321450</td>\n",
       "      <td>558.0</td>\n",
       "      <td>2.761693</td>\n",
       "      <td>11.639594</td>\n",
       "    </tr>\n",
       "  </tbody>\n",
       "</table>\n",
       "</div>"
      ],
      "text/plain": [
       "               category_2                       category_3  \\\n",
       "0   ACCESSORIES_JEWELLERY                    ACCESS_MOBILE   \n",
       "1   ACCESSORIES_JEWELLERY                            BELTS   \n",
       "2   ACCESSORIES_JEWELLERY                           GLOVES   \n",
       "3   ACCESSORIES_JEWELLERY                          JEWELRY   \n",
       "4   ACCESSORIES_JEWELLERY                        KEY_RINGS   \n",
       "5   ACCESSORIES_JEWELLERY  OTHER_ACCESSORIES_AND_JEWELLERY   \n",
       "6   ACCESSORIES_JEWELLERY           SOCKS_TIGHTS_STOCKINGS   \n",
       "7   ACCESSORIES_JEWELLERY                       SUNGLASSES   \n",
       "8   ACCESSORIES_JEWELLERY     TRADITIONA_ACCESSORIES_WOMEN   \n",
       "9   ACCESSORIES_JEWELLERY                          WATCHES   \n",
       "10  ACCESSORIES_JEWELLERY                WOM_ACC_HATS_CAPS   \n",
       "11  ACCESSORIES_JEWELLERY           WOM_ACC_SCARVES_SHAWLS   \n",
       "12  ACCESSORIES_JEWELLERY                  W_ACC_UMBRELLAS   \n",
       "13  ACCESSORIES_JEWELLERY               W_HAIR_ACCESSORIES   \n",
       "14  ACCESSORIES_JEWELLERY              W_OTHER_ACCESSORIES   \n",
       "\n",
       "    number_of_listings  avg_listing_price_eur  revenue_from_push_ups  \\\n",
       "0                14228              28.081851                  492.0   \n",
       "1                29838              21.273161                 1382.0   \n",
       "2                 6350              17.043860                  304.0   \n",
       "3               343493              17.935880                20554.0   \n",
       "4                    5              15.900000                    0.0   \n",
       "5                52245              33.023548                 2782.0   \n",
       "6                 8741               6.555352                  270.0   \n",
       "7                34020              47.930943                 3902.0   \n",
       "8                  271              16.507380                    6.0   \n",
       "9                66595              67.922934                 9238.0   \n",
       "10               53325              13.616058                 2448.0   \n",
       "11              144286              12.811990                 5284.0   \n",
       "12                   1               5.000000                    0.0   \n",
       "13                3417              10.078809                  100.0   \n",
       "14               20205              17.182730                 1116.0   \n",
       "\n",
       "    total_listing_inventory  %push_ups_on_tot_inv  qty_push_up  perc_push_up  \\\n",
       "0              3.995486e+05              0.123139        246.0      1.728985   \n",
       "1              6.347486e+05              0.217724        691.0      2.315839   \n",
       "2              1.082285e+05              0.280887        152.0      2.393701   \n",
       "3              6.160849e+06              0.333623      10277.0      2.991910   \n",
       "4              7.950000e+01              0.000000          0.0      0.000000   \n",
       "5              1.725315e+06              0.161246       1391.0      2.662456   \n",
       "6              5.730033e+04              0.471201        135.0      1.544446   \n",
       "7              1.630611e+06              0.239297       1951.0      5.734862   \n",
       "8              4.473500e+03              0.134123          3.0      1.107011   \n",
       "9              4.523328e+06              0.204230       4619.0      6.935956   \n",
       "10             7.260763e+05              0.337155       1224.0      2.295359   \n",
       "11             1.848591e+06              0.285839       2642.0      1.831085   \n",
       "12             5.000000e+00              0.000000          0.0      0.000000   \n",
       "13             3.443929e+04              0.290366         50.0      1.463272   \n",
       "14             3.471771e+05              0.321450        558.0      2.761693   \n",
       "\n",
       "    push_up_as_perc_item  \n",
       "0               7.122038  \n",
       "1               9.401518  \n",
       "2              11.734431  \n",
       "3              11.150833  \n",
       "4              12.578616  \n",
       "5               6.056285  \n",
       "6              30.509423  \n",
       "7               4.172670  \n",
       "8              12.115793  \n",
       "9               2.944514  \n",
       "10             14.688539  \n",
       "11             15.610377  \n",
       "12             40.000000  \n",
       "13             19.843615  \n",
       "14             11.639594  "
      ]
     },
     "execution_count": 198,
     "metadata": {},
     "output_type": "execute_result"
    }
   ],
   "source": [
    "df[df['category_2']=='ACCESSORIES_JEWELLERY']"
   ]
  },
  {
   "cell_type": "markdown",
   "id": "794a9e56",
   "metadata": {},
   "source": [
    "##  Dynamic pricing. % of listing price"
   ]
  },
  {
   "cell_type": "markdown",
   "id": "722d3e5f",
   "metadata": {},
   "source": [
    "We need to find the price elasticity curve. "
   ]
  },
  {
   "cell_type": "code",
   "execution_count": 215,
   "id": "1555f748",
   "metadata": {},
   "outputs": [
    {
     "data": {
      "text/html": [
       "<div>\n",
       "<style scoped>\n",
       "    .dataframe tbody tr th:only-of-type {\n",
       "        vertical-align: middle;\n",
       "    }\n",
       "\n",
       "    .dataframe tbody tr th {\n",
       "        vertical-align: top;\n",
       "    }\n",
       "\n",
       "    .dataframe thead th {\n",
       "        text-align: right;\n",
       "    }\n",
       "</style>\n",
       "<table border=\"1\" class=\"dataframe\">\n",
       "  <thead>\n",
       "    <tr style=\"text-align: right;\">\n",
       "      <th></th>\n",
       "      <th>category_2</th>\n",
       "      <th>category_3</th>\n",
       "      <th>number_of_listings</th>\n",
       "      <th>avg_listing_price_eur</th>\n",
       "      <th>revenue_from_push_ups</th>\n",
       "      <th>total_listing_inventory</th>\n",
       "      <th>%push_ups_on_tot_inv</th>\n",
       "      <th>qty_push_up</th>\n",
       "      <th>perc_push_up</th>\n",
       "      <th>push_up_as_perc_item</th>\n",
       "    </tr>\n",
       "  </thead>\n",
       "  <tbody>\n",
       "    <tr>\n",
       "      <th>0</th>\n",
       "      <td>ACCESSORIES_JEWELLERY</td>\n",
       "      <td>ACCESS_MOBILE</td>\n",
       "      <td>14228</td>\n",
       "      <td>28.081851</td>\n",
       "      <td>492.0</td>\n",
       "      <td>3.995486e+05</td>\n",
       "      <td>0.123139</td>\n",
       "      <td>246.0</td>\n",
       "      <td>1.728985</td>\n",
       "      <td>7.122038</td>\n",
       "    </tr>\n",
       "    <tr>\n",
       "      <th>1</th>\n",
       "      <td>ACCESSORIES_JEWELLERY</td>\n",
       "      <td>BELTS</td>\n",
       "      <td>29838</td>\n",
       "      <td>21.273161</td>\n",
       "      <td>1382.0</td>\n",
       "      <td>6.347486e+05</td>\n",
       "      <td>0.217724</td>\n",
       "      <td>691.0</td>\n",
       "      <td>2.315839</td>\n",
       "      <td>9.401518</td>\n",
       "    </tr>\n",
       "    <tr>\n",
       "      <th>2</th>\n",
       "      <td>ACCESSORIES_JEWELLERY</td>\n",
       "      <td>GLOVES</td>\n",
       "      <td>6350</td>\n",
       "      <td>17.043860</td>\n",
       "      <td>304.0</td>\n",
       "      <td>1.082285e+05</td>\n",
       "      <td>0.280887</td>\n",
       "      <td>152.0</td>\n",
       "      <td>2.393701</td>\n",
       "      <td>11.734431</td>\n",
       "    </tr>\n",
       "    <tr>\n",
       "      <th>3</th>\n",
       "      <td>ACCESSORIES_JEWELLERY</td>\n",
       "      <td>JEWELRY</td>\n",
       "      <td>343493</td>\n",
       "      <td>17.935880</td>\n",
       "      <td>20554.0</td>\n",
       "      <td>6.160849e+06</td>\n",
       "      <td>0.333623</td>\n",
       "      <td>10277.0</td>\n",
       "      <td>2.991910</td>\n",
       "      <td>11.150833</td>\n",
       "    </tr>\n",
       "    <tr>\n",
       "      <th>4</th>\n",
       "      <td>ACCESSORIES_JEWELLERY</td>\n",
       "      <td>KEY_RINGS</td>\n",
       "      <td>5</td>\n",
       "      <td>15.900000</td>\n",
       "      <td>0.0</td>\n",
       "      <td>7.950000e+01</td>\n",
       "      <td>0.000000</td>\n",
       "      <td>0.0</td>\n",
       "      <td>0.000000</td>\n",
       "      <td>12.578616</td>\n",
       "    </tr>\n",
       "  </tbody>\n",
       "</table>\n",
       "</div>"
      ],
      "text/plain": [
       "              category_2     category_3  number_of_listings  \\\n",
       "0  ACCESSORIES_JEWELLERY  ACCESS_MOBILE               14228   \n",
       "1  ACCESSORIES_JEWELLERY          BELTS               29838   \n",
       "2  ACCESSORIES_JEWELLERY         GLOVES                6350   \n",
       "3  ACCESSORIES_JEWELLERY        JEWELRY              343493   \n",
       "4  ACCESSORIES_JEWELLERY      KEY_RINGS                   5   \n",
       "\n",
       "   avg_listing_price_eur  revenue_from_push_ups  total_listing_inventory  \\\n",
       "0              28.081851                  492.0             3.995486e+05   \n",
       "1              21.273161                 1382.0             6.347486e+05   \n",
       "2              17.043860                  304.0             1.082285e+05   \n",
       "3              17.935880                20554.0             6.160849e+06   \n",
       "4              15.900000                    0.0             7.950000e+01   \n",
       "\n",
       "   %push_ups_on_tot_inv  qty_push_up  perc_push_up  push_up_as_perc_item  \n",
       "0              0.123139        246.0      1.728985              7.122038  \n",
       "1              0.217724        691.0      2.315839              9.401518  \n",
       "2              0.280887        152.0      2.393701             11.734431  \n",
       "3              0.333623      10277.0      2.991910             11.150833  \n",
       "4              0.000000          0.0      0.000000             12.578616  "
      ]
     },
     "execution_count": 215,
     "metadata": {},
     "output_type": "execute_result"
    }
   ],
   "source": [
    "df.head()"
   ]
  },
  {
   "cell_type": "code",
   "execution_count": 223,
   "id": "65972582",
   "metadata": {},
   "outputs": [],
   "source": [
    "#remove some outliers\n",
    "df_price_elast=df[df['push_up_as_perc_item']<40]\n",
    "df_price_elast=df_price_elast[df_price_elast['perc_push_up']>0]"
   ]
  },
  {
   "cell_type": "code",
   "execution_count": 225,
   "id": "c1f1b1e1",
   "metadata": {},
   "outputs": [
    {
     "data": {
      "image/png": "[encoded data removed]",
      "text/plain": [
       "<Figure size 936x360 with 1 Axes>"
      ]
     },
     "metadata": {
      "needs_background": "light"
     },
     "output_type": "display_data"
    }
   ],
   "source": [
    "plt.figure(figsize=(13,5))\n",
    "\n",
    "plt.subplot(1,2,1)\n",
    "sns.scatterplot(x = df_price_elast.perc_push_up, y= df_price_elast.push_up_as_perc_item)\n",
    "plt.show()"
   ]
  },
  {
   "cell_type": "code",
   "execution_count": 239,
   "id": "b9432622",
   "metadata": {},
   "outputs": [
    {
     "name": "stdout",
     "output_type": "stream",
     "text": [
      "                            OLS Regression Results                            \n",
      "==============================================================================\n",
      "Dep. Variable:           perc_push_up   R-squared:                       0.447\n",
      "Model:                            OLS   Adj. R-squared:                  0.444\n",
      "Method:                 Least Squares   F-statistic:                     174.4\n",
      "Date:                Wed, 03 Aug 2022   Prob (F-statistic):           1.38e-29\n",
      "Time:                        15:02:44   Log-Likelihood:                -422.00\n",
      "No. Observations:                 218   AIC:                             848.0\n",
      "Df Residuals:                     216   BIC:                             854.8\n",
      "Df Model:                           1                                         \n",
      "Covariance Type:            nonrobust                                         \n",
      "========================================================================================\n",
      "                           coef    std err          t      P>|t|      [0.025      0.975]\n",
      "----------------------------------------------------------------------------------------\n",
      "Intercept                5.6301      0.184     30.574      0.000       5.267       5.993\n",
      "push_up_as_perc_item    -0.1647      0.012    -13.208      0.000      -0.189      -0.140\n",
      "==============================================================================\n",
      "Omnibus:                      142.939   Durbin-Watson:                   1.864\n",
      "Prob(Omnibus):                  0.000   Jarque-Bera (JB):             2229.885\n",
      "Skew:                           2.222   Prob(JB):                         0.00\n",
      "Kurtosis:                      18.025   Cond. No.                         23.9\n",
      "==============================================================================\n",
      "\n",
      "Warnings:\n",
      "[1] Standard Errors assume that the covariance matrix of the errors is correctly specified.\n"
     ]
    },
    {
     "data": {
      "image/png": "[encoded data removed]",
      "text/plain": [
       "<Figure size 864x576 with 2 Axes>"
      ]
     },
     "metadata": {
      "needs_background": "light"
     },
     "output_type": "display_data"
    },
    {
     "data": {
      "image/png": "[encoded data removed]",
      "text/plain": [
       "<Figure size 864x576 with 4 Axes>"
      ]
     },
     "metadata": {
      "needs_background": "light"
     },
     "output_type": "display_data"
    }
   ],
   "source": [
    "model = ols(\"perc_push_up ~ push_up_as_perc_item\", data=df_price_elast).fit()\n",
    "print(model.summary())\n",
    "fig = plt.figure(figsize=(12,8))\n",
    "fig = sm.graphics.plot_partregress_grid(model, fig=fig)\n",
    "fig = plt.figure(figsize=(12,8))\n",
    "fig = sm.graphics.plot_regress_exog(model, 'push_up_as_perc_item', fig=fig)"
   ]
  },
  {
   "cell_type": "markdown",
   "id": "afed6622",
   "metadata": {},
   "source": [
    "9 to 10%"
   ]
  },
  {
   "cell_type": "code",
   "execution_count": 226,
   "id": "4c3dfc04",
   "metadata": {},
   "outputs": [],
   "source": [
    "df_new_rev=pd.read_csv('/home/louisedantas/code/LouiseDantas/vinted/Pricingdata.csv')"
   ]
  },
  {
   "cell_type": "code",
   "execution_count": 228,
   "id": "078c0889",
   "metadata": {},
   "outputs": [],
   "source": [
    "df_new_rev['push_up_price_perc']=0.095\n",
    "df_new_rev['perc_qty']=0.04"
   ]
  },
  {
   "cell_type": "code",
   "execution_count": 229,
   "id": "7c74ab44",
   "metadata": {},
   "outputs": [],
   "source": [
    "df_new_rev['push_up_price']=df_new_rev['push_up_price_perc']*df_new_rev['avg_listing_price_eur']\n",
    "df_new_rev['push_up_qty']=df_new_rev['perc_qty']*df_new_rev['number_of_listings']"
   ]
  },
  {
   "cell_type": "code",
   "execution_count": 230,
   "id": "4199d0db",
   "metadata": {},
   "outputs": [],
   "source": [
    "df_new_rev['Revenue_dinamic_price']=df_new_rev['push_up_price']*df_new_rev['push_up_qty']"
   ]
  },
  {
   "cell_type": "code",
   "execution_count": 231,
   "id": "6b72b362",
   "metadata": {},
   "outputs": [],
   "source": [
    "Increase_in_Revenue=df_new_rev['Revenue_dinamic_price'].sum()/df_new_rev['revenue_from_push_ups'].sum()"
   ]
  },
  {
   "cell_type": "code",
   "execution_count": 233,
   "id": "14241eb2",
   "metadata": {},
   "outputs": [
    {
     "data": {
      "text/plain": [
       "0.2909320764789043"
      ]
     },
     "execution_count": 233,
     "metadata": {},
     "output_type": "execute_result"
    }
   ],
   "source": [
    "Increase_in_Revenue-1"
   ]
  },
  {
   "cell_type": "code",
   "execution_count": 298,
   "id": "a16f2948",
   "metadata": {},
   "outputs": [
    {
     "data": {
      "text/plain": [
       "1154018.4023117046"
      ]
     },
     "execution_count": 298,
     "metadata": {},
     "output_type": "execute_result"
    }
   ],
   "source": [
    "df_new_rev['Revenue_dinamic_price'].sum()"
   ]
  },
  {
   "cell_type": "markdown",
   "id": "77668aac",
   "metadata": {},
   "source": [
    "The increase in revenue is 29%"
   ]
  },
  {
   "cell_type": "markdown",
   "id": "1de828d9",
   "metadata": {},
   "source": [
    "# BLA"
   ]
  },
  {
   "cell_type": "code",
   "execution_count": null,
   "id": "5daa1f4e",
   "metadata": {},
   "outputs": [],
   "source": [
    "df.head()"
   ]
  },
  {
   "cell_type": "code",
   "execution_count": null,
   "id": "7aabc17b",
   "metadata": {},
   "outputs": [],
   "source": [
    "df_cust_channel=df[['customer_id','In-store','Online']].groupby(by=[\"customer_id\"],dropna=False).sum().reset_index()"
   ]
  },
  {
   "cell_type": "code",
   "execution_count": null,
   "id": "8aec3c87",
   "metadata": {},
   "outputs": [],
   "source": [
    "df.drop(columns=['bla','bla'])"
   ]
  },
  {
   "cell_type": "code",
   "execution_count": null,
   "id": "9cd27066",
   "metadata": {},
   "outputs": [],
   "source": [
    "# Plot distribution for the numerical features  available in the dataset\n",
    "for variable in df.select_dtypes(exclude = [\"object\"]).columns:\n",
    "    print(f\"----- Distribution of {variable} : -----\")\n",
    "    sns.histplot(df[variable])\n",
    "    plt.show()"
   ]
  },
  {
   "cell_type": "code",
   "execution_count": null,
   "id": "b9a98b89",
   "metadata": {},
   "outputs": [],
   "source": [
    "g = sns.FacetGrid(data=df, col=\"review_score\")\n",
    "g.map(plt.hist, \"wait_time\")"
   ]
  },
  {
   "cell_type": "code",
   "execution_count": null,
   "id": "904d28c3",
   "metadata": {},
   "outputs": [],
   "source": [
    "pd.merge(df1, df2, on=\"col1\", how=\"outer\", indicator=True)\n",
    "result = left.join(right, how=\"left\")"
   ]
  }
 ],
 "metadata": {
  "kernelspec": {
   "display_name": "Python 3 (ipykernel)",
   "language": "python",
   "name": "python3"
  },
  "language_info": {
   "codemirror_mode": {
    "name": "ipython",
    "version": 3
   },
   "file_extension": ".py",
   "mimetype": "text/x-python",
   "name": "python",
   "nbconvert_exporter": "python",
   "pygments_lexer": "ipython3",
   "version": "3.8.12"
  },
  "toc": {
   "base_numbering": 1,
   "nav_menu": {},
   "number_sections": true,
   "sideBar": true,
   "skip_h1_title": false,
   "title_cell": "Table of Contents",
   "title_sidebar": "Contents",
   "toc_cell": false,
   "toc_position": {},
   "toc_section_display": true,
   "toc_window_display": false
  }
 },
 "nbformat": 4,
 "nbformat_minor": 5
}
